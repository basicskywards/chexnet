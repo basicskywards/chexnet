{
 "cells": [
  {
   "cell_type": "code",
   "execution_count": 1,
   "metadata": {},
   "outputs": [],
   "source": [
    "import numpy as np \n",
    "import pandas as pd \n",
    "from glob import glob\n",
    "import matplotlib.pyplot as plt\n",
    "import matplotlib as mpl\n",
    "\n",
    "import os\n",
    "from sklearn.model_selection import train_test_split\n",
    "import statistics\n",
    "from tqdm import tqdm"
   ]
  },
  {
   "cell_type": "code",
   "execution_count": 2,
   "metadata": {},
   "outputs": [],
   "source": [
    "labels_df = pd.read_csv('/home/basic/aicenter/chexnet/data/NIH_CXR_train.csv')"
   ]
  },
  {
   "cell_type": "code",
   "execution_count": 3,
   "metadata": {},
   "outputs": [
    {
     "data": {
      "text/html": [
       "<div>\n",
       "<style scoped>\n",
       "    .dataframe tbody tr th:only-of-type {\n",
       "        vertical-align: middle;\n",
       "    }\n",
       "\n",
       "    .dataframe tbody tr th {\n",
       "        vertical-align: top;\n",
       "    }\n",
       "\n",
       "    .dataframe thead th {\n",
       "        text-align: right;\n",
       "    }\n",
       "</style>\n",
       "<table border=\"1\" class=\"dataframe\">\n",
       "  <thead>\n",
       "    <tr style=\"text-align: right;\">\n",
       "      <th></th>\n",
       "      <th>Image Index</th>\n",
       "      <th>Finding Labels</th>\n",
       "      <th>Follow-up #</th>\n",
       "      <th>Patient ID</th>\n",
       "      <th>Patient Age</th>\n",
       "      <th>Patient Gender</th>\n",
       "      <th>View Position</th>\n",
       "      <th>OriginalImage[Width</th>\n",
       "      <th>Height]</th>\n",
       "      <th>OriginalImagePixelSpacing[x</th>\n",
       "      <th>y]</th>\n",
       "    </tr>\n",
       "  </thead>\n",
       "  <tbody>\n",
       "    <tr>\n",
       "      <th>0</th>\n",
       "      <td>00000005_005.png</td>\n",
       "      <td>No Finding</td>\n",
       "      <td>5</td>\n",
       "      <td>5</td>\n",
       "      <td>70</td>\n",
       "      <td>F</td>\n",
       "      <td>PA</td>\n",
       "      <td>2514</td>\n",
       "      <td>2991</td>\n",
       "      <td>0.143</td>\n",
       "      <td>0.143</td>\n",
       "    </tr>\n",
       "    <tr>\n",
       "      <th>1</th>\n",
       "      <td>00000011_002.png</td>\n",
       "      <td>No Finding</td>\n",
       "      <td>2</td>\n",
       "      <td>11</td>\n",
       "      <td>75</td>\n",
       "      <td>M</td>\n",
       "      <td>PA</td>\n",
       "      <td>2714</td>\n",
       "      <td>2781</td>\n",
       "      <td>0.143</td>\n",
       "      <td>0.143</td>\n",
       "    </tr>\n",
       "  </tbody>\n",
       "</table>\n",
       "</div>"
      ],
      "text/plain": [
       "        Image Index Finding Labels  Follow-up #  Patient ID  Patient Age  \\\n",
       "0  00000005_005.png     No Finding            5           5           70   \n",
       "1  00000011_002.png     No Finding            2          11           75   \n",
       "\n",
       "  Patient Gender View Position  OriginalImage[Width  Height]  \\\n",
       "0              F            PA                 2514     2991   \n",
       "1              M            PA                 2714     2781   \n",
       "\n",
       "   OriginalImagePixelSpacing[x     y]  \n",
       "0                        0.143  0.143  \n",
       "1                        0.143  0.143  "
      ]
     },
     "execution_count": 3,
     "metadata": {},
     "output_type": "execute_result"
    }
   ],
   "source": [
    "labels_df.head(2)"
   ]
  },
  {
   "cell_type": "code",
   "execution_count": 4,
   "metadata": {},
   "outputs": [],
   "source": [
    "# Binary Disease\n",
    "binary_disease = ['Atelectasis']\n",
    "binary_disease_str = 'Atelectasis'\n",
    "disease_labels = ['Atelectasis']"
   ]
  },
  {
   "cell_type": "code",
   "execution_count": 5,
   "metadata": {},
   "outputs": [
    {
     "data": {
      "text/html": [
       "<div>\n",
       "<style scoped>\n",
       "    .dataframe tbody tr th:only-of-type {\n",
       "        vertical-align: middle;\n",
       "    }\n",
       "\n",
       "    .dataframe tbody tr th {\n",
       "        vertical-align: top;\n",
       "    }\n",
       "\n",
       "    .dataframe thead th {\n",
       "        text-align: right;\n",
       "    }\n",
       "</style>\n",
       "<table border=\"1\" class=\"dataframe\">\n",
       "  <thead>\n",
       "    <tr style=\"text-align: right;\">\n",
       "      <th></th>\n",
       "      <th>Image Index</th>\n",
       "      <th>Finding Labels</th>\n",
       "      <th>Follow-up #</th>\n",
       "      <th>Patient ID</th>\n",
       "      <th>Patient Age</th>\n",
       "      <th>Patient Gender</th>\n",
       "      <th>View Position</th>\n",
       "      <th>OriginalImage[Width</th>\n",
       "      <th>Height]</th>\n",
       "      <th>OriginalImagePixelSpacing[x</th>\n",
       "      <th>y]</th>\n",
       "      <th>Atelectasis</th>\n",
       "    </tr>\n",
       "  </thead>\n",
       "  <tbody>\n",
       "    <tr>\n",
       "      <th>0</th>\n",
       "      <td>00000005_005.png</td>\n",
       "      <td>No Finding</td>\n",
       "      <td>5</td>\n",
       "      <td>5</td>\n",
       "      <td>70</td>\n",
       "      <td>F</td>\n",
       "      <td>PA</td>\n",
       "      <td>2514</td>\n",
       "      <td>2991</td>\n",
       "      <td>0.143</td>\n",
       "      <td>0.143</td>\n",
       "      <td>0.0</td>\n",
       "    </tr>\n",
       "    <tr>\n",
       "      <th>1</th>\n",
       "      <td>00000011_002.png</td>\n",
       "      <td>No Finding</td>\n",
       "      <td>2</td>\n",
       "      <td>11</td>\n",
       "      <td>75</td>\n",
       "      <td>M</td>\n",
       "      <td>PA</td>\n",
       "      <td>2714</td>\n",
       "      <td>2781</td>\n",
       "      <td>0.143</td>\n",
       "      <td>0.143</td>\n",
       "      <td>0.0</td>\n",
       "    </tr>\n",
       "  </tbody>\n",
       "</table>\n",
       "</div>"
      ],
      "text/plain": [
       "        Image Index Finding Labels  Follow-up #  Patient ID  Patient Age  \\\n",
       "0  00000005_005.png     No Finding            5           5           70   \n",
       "1  00000011_002.png     No Finding            2          11           75   \n",
       "\n",
       "  Patient Gender View Position  OriginalImage[Width  Height]  \\\n",
       "0              F            PA                 2514     2991   \n",
       "1              M            PA                 2714     2781   \n",
       "\n",
       "   OriginalImagePixelSpacing[x     y]  Atelectasis  \n",
       "0                        0.143  0.143          0.0  \n",
       "1                        0.143  0.143          0.0  "
      ]
     },
     "execution_count": 5,
     "metadata": {},
     "output_type": "execute_result"
    }
   ],
   "source": [
    "# Binary Class Mapping \n",
    "labels_df[binary_disease_str] = labels_df['Finding Labels'].map(lambda x: 1.0 if binary_disease_str in x else 0.0)\n",
    "\n",
    "# Print Class Mapping\n",
    "labels_df.head(2)"
   ]
  },
  {
   "cell_type": "code",
   "execution_count": 6,
   "metadata": {},
   "outputs": [
    {
     "name": "stdout",
     "output_type": "stream",
     "text": [
      "0.0    3993\n",
      "1.0     249\n",
      "Name: Atelectasis, dtype: int64\n"
     ]
    }
   ],
   "source": [
    "print(labels_df[binary_disease_str].value_counts())\n"
   ]
  },
  {
   "cell_type": "code",
   "execution_count": 20,
   "metadata": {},
   "outputs": [
    {
     "name": "stdout",
     "output_type": "stream",
     "text": [
      "True\n",
      "00000005_005.png 0 1\n",
      "\n"
     ]
    }
   ],
   "source": [
    "# train_txt = open(\"/home/basic/aicenter/chexnet/dataset/train.txt\", \"w\")\n",
    "# tmp = []\n",
    "for i in range(len(labels_df)):\n",
    "#     print(labels_df.iloc[i][\"Image Index\"])\n",
    "#     print(labels_df.iloc[i][\"Atelectasis\"])\n",
    "    im_path = labels_df.iloc[i][\"Image Index\"]\n",
    "    im_label = labels_df.iloc[i][\"Atelectasis\"]\n",
    "#     pa_la = im_path + \" \" + str(int(im_label)) + \"\\n\"\n",
    "    if int(im_label) == 0:\n",
    "        pa_la = im_path + \" \" + str(int(im_label)) + \" \" + \"1\" + \"\\n\"\n",
    "    else:\n",
    "        pa_la = im_path + \" \" + str(int(im_label)) + \" \" + \"0\" + \"\\n\"\n",
    "\n",
    "    print((int(im_label)) == 0)\n",
    "    print(pa_la)\n",
    "    break\n",
    "#     train_txt.write(pa_la)\n",
    "# train_txt.close()    "
   ]
  },
  {
   "cell_type": "code",
   "execution_count": null,
   "metadata": {},
   "outputs": [],
   "source": []
  },
  {
   "cell_type": "code",
   "execution_count": 3,
   "metadata": {},
   "outputs": [],
   "source": [
    "#\n",
    "def gen_txt(in_file, out_file, train=True):\n",
    "    labels_df = pd.read_csv(in_file)\n",
    "    binary_disease_str = 'Atelectasis'\n",
    "    labels_df[binary_disease_str] = labels_df['Finding Labels'].map(lambda x: 1.0 if binary_disease_str in x else 0.0)\n",
    "    print(labels_df[binary_disease_str].value_counts())\n",
    "    \n",
    "    cnt = 0\n",
    "    with open(out_file, \"w+\") as train_txt:\n",
    "    \n",
    "        for i in range(len(labels_df)):\n",
    "        #     print(labels_df.iloc[i][\"Image Index\"])\n",
    "        #     print(labels_df.iloc[i][\"Atelectasis\"])\n",
    "            im_path = labels_df.iloc[i][\"Image Index\"]\n",
    "            im_label = labels_df.iloc[i][\"Atelectasis\"]\n",
    "            \n",
    "            if int(im_label) == 0:\n",
    "                pa_la = im_path + \" \" + str(int(im_label)) + \" \" + \"1\" + \"\\n\"\n",
    "                cnt += 1\n",
    "                if cnt >= 1000:\n",
    "                    continue\n",
    "            else:\n",
    "                pa_la = im_path + \" \" + str(int(im_label)) + \" \" + \"0\" + \"\\n\"\n",
    "\n",
    "            if train:\n",
    "                pa_la_ = \"train/\" + pa_la\n",
    "            else:\n",
    "                pa_la_ = \"test/\" + pa_la\n",
    "                \n",
    "            train_txt.write(pa_la_)\n",
    "    train_txt.close()\n",
    "    print('\\nNo finding: ', cnt)"
   ]
  },
  {
   "cell_type": "code",
   "execution_count": 4,
   "metadata": {},
   "outputs": [
    {
     "name": "stdout",
     "output_type": "stream",
     "text": [
      "0.0    3993\n",
      "1.0     249\n",
      "Name: Atelectasis, dtype: int64\n",
      "\n",
      "No finding:  3993\n"
     ]
    }
   ],
   "source": [
    "# TRAIN\n",
    "in_file = \"/home/basic/aicenter/chexnet/data/NIH_CXR_train.csv\"\n",
    "out_file = \"/home/basic/aicenter/chexnet/dataset/train1k.txt\"\n",
    "gen_txt(in_file, out_file)"
   ]
  },
  {
   "cell_type": "code",
   "execution_count": 23,
   "metadata": {},
   "outputs": [
    {
     "name": "stdout",
     "output_type": "stream",
     "text": [
      "0.0    270\n",
      "1.0     27\n",
      "Name: Atelectasis, dtype: int64\n"
     ]
    }
   ],
   "source": [
    "# TEST\n",
    "in_file = \"/home/basic/aicenter/chexnet/data/NIH_CXR_test.csv\"\n",
    "out_file = \"/home/basic/aicenter/chexnet/dataset/test.txt\"\n",
    "gen_txt(in_file, out_file, train=False)"
   ]
  },
  {
   "cell_type": "code",
   "execution_count": null,
   "metadata": {},
   "outputs": [],
   "source": []
  }
 ],
 "metadata": {
  "kernelspec": {
   "display_name": "Python 3",
   "language": "python",
   "name": "python3"
  },
  "language_info": {
   "codemirror_mode": {
    "name": "ipython",
    "version": 3
   },
   "file_extension": ".py",
   "mimetype": "text/x-python",
   "name": "python",
   "nbconvert_exporter": "python",
   "pygments_lexer": "ipython3",
   "version": "3.7.4"
  }
 },
 "nbformat": 4,
 "nbformat_minor": 2
}
